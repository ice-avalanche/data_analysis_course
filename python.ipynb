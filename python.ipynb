{
 "cells": [
  {
   "cell_type": "markdown",
   "metadata": {},
   "source": [
    "# Basics of Python\n",
    "\n",
    "This notebook covers the fundamentals of Python programming. It is designed for students who are new to Python.\n",
    "\n",
    "## Table of Contents\n",
    "1. [Variables and Data Types](#variables-and-data-types)\n",
    "2. [Control Structures](#control-structures)\n",
    "3. [Functions](#functions)\n",
    "4. [Lists and Loops](#lists-and-loops)\n",
    "5. [Dictionaries](#dictionaries)\n",
    "6. [File Handling](#file-handling)"
   ]
  },
  {
   "cell_type": "markdown",
   "metadata": {},
   "source": [
    "## Variables and Data Types"
   ]
  },
  {
   "cell_type": "markdown",
   "metadata": {},
   "source": [
    "In Python, variables are used to store data. Each variable has a type, which determines what kind of data it can hold. Python supports several basic data types:\n",
    "\n",
    "- **Integers**: Whole numbers, e.g., `5`, `-3`, `42`.\n",
    "- **Floats**: Decimal numbers, e.g., `3.14`, `-0.001`, `2.0`.\n",
    "- **Strings**: Sequences of characters, e.g., `\"Hello\"`, `'Python'`.\n",
    "- **Booleans**: Logical values, either `True` or `False`.\n",
    "\n",
    "Python is dynamically typed, meaning you don't need to declare the type of a variable explicitly. The type is inferred from the value assigned to it."
   ]
  },
  {
   "cell_type": "code",
   "execution_count": 130,
   "metadata": {},
   "outputs": [
    {
     "name": "stdout",
     "output_type": "stream",
     "text": [
      "Age: 25\n",
      "Type of age: <class 'int'>\n",
      "Height: 5.9\n",
      "Type of height: <class 'float'>\n",
      "Name: Anna\n",
      "Type of name: <class 'str'>\n",
      "Is Student: True\n",
      "Type of is_student: <class 'bool'>\n"
     ]
    }
   ],
   "source": [
    "# Integer\n",
    "age = 25\n",
    "print(\"Age:\", age)\n",
    "print(\"Type of age:\", type(age))  # Output: <class 'int'>\n",
    "\n",
    "# Float\n",
    "height = 5.9\n",
    "print(\"Height:\", height)\n",
    "print(\"Type of height:\", type(height))  # Output: <class 'float'>\n",
    "\n",
    "# String\n",
    "name = \"Anna\"\n",
    "print(\"Name:\", name)\n",
    "print(\"Type of name:\", type(name))  # Output: <class 'str'>\n",
    "\n",
    "# Boolean\n",
    "is_student = True\n",
    "print(\"Is Student:\", is_student)\n",
    "print(\"Type of is_student:\", type(is_student))  # Output: <class 'bool'>"
   ]
  },
  {
   "cell_type": "code",
   "execution_count": 131,
   "metadata": {},
   "outputs": [
    {
     "name": "stdout",
     "output_type": "stream",
     "text": [
      "Pi as integer: 3\n",
      "Age as string: 25\n",
      "Type of age_str: <class 'str'>\n",
      "Price as float: 19.99\n",
      "Type of price_float: <class 'float'>\n"
     ]
    }
   ],
   "source": [
    "# Convert float to integer\n",
    "pi = 3.14\n",
    "pi_int = int(pi)\n",
    "print(\"Pi as integer:\", pi_int)  # Output: 3\n",
    "\n",
    "# Convert integer to string\n",
    "age_str = str(age)\n",
    "print(\"Age as string:\", age_str)  # Output: \"25\"\n",
    "print(\"Type of age_str:\", type(age_str))  # Output: <class 'str'>\n",
    "\n",
    "# Convert string to float\n",
    "price = \"19.99\"\n",
    "price_float = float(price)\n",
    "print(\"Price as float:\", price_float)  # Output: 19.99\n",
    "print(\"Type of price_float:\", type(price_float))  # Output: <class 'float'>"
   ]
  },
  {
   "cell_type": "code",
   "execution_count": 150,
   "metadata": {},
   "outputs": [
    {
     "name": "stdout",
     "output_type": "stream",
     "text": [
      "5 + 3 = 8\n",
      "5 + 3.2 = 8.2\n",
      "Hello, Max!\n"
     ]
    }
   ],
   "source": [
    "# Adding two integers\n",
    "result = 5 + 3\n",
    "print(\"5 + 3 =\", result)  # Output: 8\n",
    "\n",
    "# Adding an integer and a float\n",
    "result = 5 + 3.2\n",
    "print(\"5 + 3.2 =\", result)  # Output: 8.2\n",
    "\n",
    "# Concatenating strings\n",
    "greeting = \"Hello, \" + \"Max!\"\n",
    "print(greeting)  # Output: Hello, Max!\n",
    "\n",
    "# Mixing incompatible types (this will raise an error)\n",
    "# Uncomment the line below to see the error\n",
    "# result = \"Age: \" + 25  # TypeError: can only concatenate str (not \"int\") to str"
   ]
  },
  {
   "cell_type": "code",
   "execution_count": 151,
   "metadata": {},
   "outputs": [
    {
     "name": "stdout",
     "output_type": "stream",
     "text": [
      "Empty Value: None\n",
      "Type of empty_value: <class 'NoneType'>\n"
     ]
    }
   ],
   "source": [
    "# Variable with None value\n",
    "empty_value = None\n",
    "print(\"Empty Value:\", empty_value)  # Output: None\n",
    "print(\"Type of empty_value:\", type(empty_value))  # Output: <class 'NoneType'>"
   ]
  },
  {
   "cell_type": "code",
   "execution_count": 152,
   "metadata": {},
   "outputs": [
    {
     "name": "stdout",
     "output_type": "stream",
     "text": [
      "x: 10\n",
      "y: 20\n",
      "z: 30\n",
      "a: 10\n",
      "b: 5\n"
     ]
    }
   ],
   "source": [
    "# Assign multiple variables\n",
    "x, y, z = 10, 20, 30\n",
    "print(\"x:\", x)  # Output: 10\n",
    "print(\"y:\", y)  # Output: 20\n",
    "print(\"z:\", z)  # Output: 30\n",
    "\n",
    "# Swap values\n",
    "a, b = 5, 10\n",
    "a, b = b, a\n",
    "print(\"a:\", a)  # Output: 10\n",
    "print(\"b:\", b)  # Output: 5"
   ]
  },
  {
   "cell_type": "code",
   "execution_count": 153,
   "metadata": {},
   "outputs": [
    {
     "name": "stdout",
     "output_type": "stream",
     "text": [
      "Value of PI: 3.14159\n",
      "Value of GRAVITY: 9.81\n"
     ]
    }
   ],
   "source": [
    "# Constants (by convention)\n",
    "PI = 3.14159\n",
    "GRAVITY = 9.81\n",
    "\n",
    "print(\"Value of PI:\", PI)\n",
    "print(\"Value of GRAVITY:\", GRAVITY)"
   ]
  },
  {
   "cell_type": "code",
   "execution_count": 154,
   "metadata": {},
   "outputs": [
    {
     "name": "stdout",
     "output_type": "stream",
     "text": [
      "Type of 42: <class 'int'>\n",
      "Type of 3.14: <class 'float'>\n",
      "Type of 'Python': <class 'str'>\n",
      "Type of True: <class 'bool'>\n"
     ]
    }
   ],
   "source": [
    "# Check types\n",
    "print(\"Type of 42:\", type(42))  # Output: <class 'int'>\n",
    "print(\"Type of 3.14:\", type(3.14))  # Output: <class 'float'>\n",
    "print(\"Type of 'Python':\", type(\"Python\"))  # Output: <class 'str'>\n",
    "print(\"Type of True:\", type(True))  # Output: <class 'bool'>"
   ]
  },
  {
   "cell_type": "markdown",
   "metadata": {},
   "source": [
    "### Summary\n",
    "\n",
    "- Variables are used to store data.\n",
    "- Python supports basic data types like integers, floats, strings, and booleans.\n",
    "- You can convert between types using functions like `int()`, `float()`, `str()`, and `bool()`.\n",
    "- Python is dynamically typed, so you don't need to declare variable types explicitly.\n",
    "- Use `None` to represent the absence of a value.\n",
    "- Constants are written in uppercase by convention, but they are not enforced by Python."
   ]
  },
  {
   "cell_type": "markdown",
   "metadata": {},
   "source": [
    "## Control Structures"
   ]
  },
  {
   "cell_type": "markdown",
   "metadata": {},
   "source": [
    "Control structures in Python allow you to control the flow of your program. They include:\n",
    "\n",
    "- **Conditional Statements**: Used to make decisions based on conditions (e.g., `if`, `elif`, `else`).\n",
    "- **Loops**: Used to repeat a block of code (e.g., `for`, `while`).\n",
    "- **Control Flow Statements**: Used to alter the flow of loops (e.g., `break`, `continue`, `pass`).\n",
    "\n",
    "These structures are essential for writing dynamic and flexible programs."
   ]
  },
  {
   "cell_type": "code",
   "execution_count": 155,
   "metadata": {},
   "outputs": [
    {
     "name": "stdout",
     "output_type": "stream",
     "text": [
      "You are an adult.\n",
      "It's a hot day!\n",
      "Grade: B\n"
     ]
    }
   ],
   "source": [
    "# Simple if statement\n",
    "age = 18\n",
    "if age >= 18:\n",
    "    print(\"You are an adult.\")  # Output: You are an adult.\n",
    "\n",
    "# if-else statement\n",
    "temperature = 30\n",
    "if temperature > 25:\n",
    "    print(\"It's a hot day!\")\n",
    "else:\n",
    "    print(\"It's a cool day.\")  # Output: It's a hot day!\n",
    "\n",
    "# if-elif-else statement\n",
    "score = 85\n",
    "if score >= 90:\n",
    "    print(\"Grade: A\")\n",
    "elif score >= 80:\n",
    "    print(\"Grade: B\")  # Output: Grade: B\n",
    "elif score >= 70:\n",
    "    print(\"Grade: C\")\n",
    "else:\n",
    "    print(\"Grade: F\")"
   ]
  },
  {
   "cell_type": "code",
   "execution_count": 156,
   "metadata": {},
   "outputs": [
    {
     "name": "stdout",
     "output_type": "stream",
     "text": [
      "You are an adult student.\n"
     ]
    }
   ],
   "source": [
    "# Nested if-else\n",
    "age = 20\n",
    "is_student = True\n",
    "\n",
    "if age >= 18:\n",
    "    if is_student:\n",
    "        print(\"You are an adult student.\")  # Output: You are an adult student.\n",
    "    else:\n",
    "        print(\"You are an adult, but not a student.\")\n",
    "else:\n",
    "    print(\"You are a minor.\")"
   ]
  },
  {
   "cell_type": "code",
   "execution_count": 157,
   "metadata": {},
   "outputs": [
    {
     "name": "stdout",
     "output_type": "stream",
     "text": [
      "Status: Adult\n"
     ]
    }
   ],
   "source": [
    "# Ternary operator\n",
    "age = 20\n",
    "status = \"Adult\" if age >= 18 else \"Minor\"\n",
    "print(\"Status:\", status)  # Output: Status: Adult"
   ]
  },
  {
   "cell_type": "code",
   "execution_count": 158,
   "metadata": {},
   "outputs": [
    {
     "name": "stdout",
     "output_type": "stream",
     "text": [
      "apple\n",
      "banana\n",
      "cherry\n",
      "Count: 0\n",
      "Count: 1\n",
      "Count: 2\n",
      "Count: 3\n",
      "Count: 4\n"
     ]
    }
   ],
   "source": [
    "# for loop\n",
    "fruits = [\"apple\", \"banana\", \"cherry\"]\n",
    "for fruit in fruits:\n",
    "    print(fruit)  # Output: apple, banana, cherry\n",
    "\n",
    "# while loop\n",
    "count = 0\n",
    "while count < 5:\n",
    "    print(\"Count:\", count)  # Output: Count: 0, 1, 2, 3, 4\n",
    "    count += 1"
   ]
  },
  {
   "cell_type": "code",
   "execution_count": 159,
   "metadata": {},
   "outputs": [
    {
     "name": "stdout",
     "output_type": "stream",
     "text": [
      "0\n",
      "1\n",
      "2\n",
      "3\n",
      "4\n",
      "1\n",
      "3\n",
      "5\n",
      "7\n",
      "9\n",
      "0\n",
      "1\n",
      "2\n",
      "3\n",
      "4\n"
     ]
    }
   ],
   "source": [
    "# break statement\n",
    "for number in range(10):\n",
    "    if number == 5:\n",
    "        break  # Exit the loop when number is 5\n",
    "    print(number)  # Output: 0, 1, 2, 3, 4\n",
    "\n",
    "# continue statement\n",
    "for number in range(10):\n",
    "    if number % 2 == 0:\n",
    "        continue  # Skip even numbers\n",
    "    print(number)  # Output: 1, 3, 5, 7, 9\n",
    "\n",
    "# pass statement\n",
    "for number in range(5):\n",
    "    if number == 3:\n",
    "        pass  # Do nothing\n",
    "    print(number)  # Output: 0, 1, 2, 3, 4"
   ]
  },
  {
   "cell_type": "code",
   "execution_count": 160,
   "metadata": {},
   "outputs": [
    {
     "name": "stdout",
     "output_type": "stream",
     "text": [
      "i=0, j=0\n",
      "i=0, j=1\n",
      "i=1, j=0\n",
      "i=1, j=1\n",
      "i=2, j=0\n",
      "i=2, j=1\n"
     ]
    }
   ],
   "source": [
    "# Nested for loop\n",
    "for i in range(3):\n",
    "    for j in range(2):\n",
    "        print(f\"i={i}, j={j}\")\n",
    "# Output:\n",
    "# i=0, j=0\n",
    "# i=0, j=1\n",
    "# i=1, j=0\n",
    "# i=1, j=1\n",
    "# i=2, j=0\n",
    "# i=2, j=1"
   ]
  },
  {
   "cell_type": "code",
   "execution_count": 161,
   "metadata": {},
   "outputs": [
    {
     "name": "stdout",
     "output_type": "stream",
     "text": [
      "0\n",
      "1\n",
      "2\n",
      "Loop completed!\n",
      "Count: 0\n",
      "Count: 1\n",
      "Count: 2\n",
      "Loop completed!\n"
     ]
    }
   ],
   "source": [
    "# else with for loop\n",
    "for number in range(3):\n",
    "    print(number)  # Output: 0, 1, 2\n",
    "else:\n",
    "    print(\"Loop completed!\")  # Output: Loop completed!\n",
    "\n",
    "# else with while loop\n",
    "count = 0\n",
    "while count < 3:\n",
    "    print(\"Count:\", count)  # Output: Count: 0, 1, 2\n",
    "    count += 1\n",
    "else:\n",
    "    print(\"Loop completed!\")  # Output: Loop completed!"
   ]
  },
  {
   "cell_type": "code",
   "execution_count": 145,
   "metadata": {},
   "outputs": [
    {
     "name": "stdout",
     "output_type": "stream",
     "text": [
      "You entered: Maria\n"
     ]
    }
   ],
   "source": [
    "# Infinite loop with break\n",
    "while True:\n",
    "    user_input = input(\"Enter 'quit' to exit: \")\n",
    "    if user_input == \"quit\":\n",
    "        break\n",
    "    print(\"You entered:\", user_input)"
   ]
  },
  {
   "cell_type": "code",
   "execution_count": 162,
   "metadata": {},
   "outputs": [
    {
     "name": "stdout",
     "output_type": "stream",
     "text": [
      "Index 0: apple\n",
      "Index 1: banana\n",
      "Index 2: cherry\n"
     ]
    }
   ],
   "source": [
    "# Using enumerate()\n",
    "fruits = [\"apple\", \"banana\", \"cherry\"]\n",
    "for index, fruit in enumerate(fruits):\n",
    "    print(f\"Index {index}: {fruit}\")\n",
    "# Output:\n",
    "# Index 0: apple\n",
    "# Index 1: banana\n",
    "# Index 2: cherry"
   ]
  },
  {
   "cell_type": "code",
   "execution_count": 163,
   "metadata": {},
   "outputs": [
    {
     "name": "stdout",
     "output_type": "stream",
     "text": [
      "Even Numbers: [2, 4]\n"
     ]
    }
   ],
   "source": [
    "# List comprehension with condition\n",
    "numbers = [1, 2, 3, 4, 5]\n",
    "even_numbers = [x for x in numbers if x % 2 == 0]\n",
    "print(\"Even Numbers:\", even_numbers)  # Output: Even Numbers: [2, 4]"
   ]
  },
  {
   "cell_type": "markdown",
   "metadata": {},
   "source": [
    "### Summary\n",
    "\n",
    "- **Conditional Statements**: Use `if`, `elif`, and `else` to make decisions.\n",
    "- **Loops**: Use `for` and `while` to repeat code.\n",
    "- **Control Flow Statements**: Use `break`, `continue`, and `pass` to control loops.\n",
    "- **Nested Structures**: You can nest loops and conditionals for complex logic.\n",
    "- **Ternary Operator**: A concise way to write simple `if-else` statements.\n",
    "- **else in Loops**: Executes when a loop completes normally.\n",
    "- **Infinite Loops**: Use `break` to exit them.\n",
    "- **enumerate()**: Useful for getting both index and value in a loop.\n",
    "- **List Comprehensions**: Can include conditions for filtering."
   ]
  },
  {
   "cell_type": "markdown",
   "metadata": {},
   "source": [
    "## Functions"
   ]
  },
  {
   "cell_type": "markdown",
   "metadata": {},
   "source": [
    "Functions are reusable blocks of code that perform a specific task. They help in organizing code, reducing redundancy, and making programs easier to understand and maintain. In Python, functions are defined using the `def` keyword.\n",
    "\n",
    "### Key Concepts:\n",
    "- **Defining a Function**: Use the `def` keyword followed by the function name and parentheses.\n",
    "- **Parameters and Arguments**: Functions can accept inputs (parameters) and return outputs (return values).\n",
    "- **Return Statement**: The `return` statement is used to send a result back to the caller.\n",
    "- **Scope**: Variables defined inside a function are local to that function.\n",
    "- **Default Arguments**: You can provide default values for parameters.\n",
    "- **Keyword Arguments**: Arguments can be passed by name.\n",
    "- **Variable-Length Arguments**: Functions can accept a variable number of arguments using `*args` and `**kwargs`."
   ]
  },
  {
   "cell_type": "code",
   "execution_count": 164,
   "metadata": {},
   "outputs": [
    {
     "name": "stdout",
     "output_type": "stream",
     "text": [
      "Hello, Tatyana!\n"
     ]
    }
   ],
   "source": [
    "# Define a function\n",
    "def greet(name):\n",
    "    return f\"Hello, {name}!\"\n",
    "\n",
    "# Call the function\n",
    "print(greet(\"Tatyana\"))  # Output: Hello, Tatyana!"
   ]
  },
  {
   "cell_type": "code",
   "execution_count": 165,
   "metadata": {},
   "outputs": [
    {
     "name": "stdout",
     "output_type": "stream",
     "text": [
      "Sum: 8\n"
     ]
    }
   ],
   "source": [
    "# Function with multiple parameters\n",
    "def add_numbers(a, b):\n",
    "    return a + b\n",
    "\n",
    "# Call the function\n",
    "result = add_numbers(5, 3)\n",
    "print(\"Sum:\", result)  # Output: Sum: 8"
   ]
  },
  {
   "cell_type": "code",
   "execution_count": 166,
   "metadata": {},
   "outputs": [
    {
     "name": "stdout",
     "output_type": "stream",
     "text": [
      "Hello, Julia!\n",
      "Hi, Alex!\n"
     ]
    }
   ],
   "source": [
    "# Function with default arguments\n",
    "def greet(name, greeting=\"Hello\"):\n",
    "    return f\"{greeting}, {name}!\"\n",
    "\n",
    "# Call the function\n",
    "print(greet(\"Julia\"))  # Output: Hello, Julia!\n",
    "print(greet(\"Alex\", \"Hi\"))  # Output: Hi, Alex!"
   ]
  },
  {
   "cell_type": "code",
   "execution_count": 167,
   "metadata": {},
   "outputs": [
    {
     "name": "stdout",
     "output_type": "stream",
     "text": [
      "Alice is 25 years old and lives in St. Petersburg.\n"
     ]
    }
   ],
   "source": [
    "# Function with keyword arguments\n",
    "def describe_person(name, age, city):\n",
    "    return f\"{name} is {age} years old and lives in {city}.\"\n",
    "\n",
    "# Call the function\n",
    "print(describe_person(name=\"Alice\", age=25, city=\"St. Petersburg\"))\n",
    "# Output: Alice is 25 years old and lives in St. Petersburg."
   ]
  },
  {
   "cell_type": "code",
   "execution_count": 208,
   "metadata": {},
   "outputs": [
    {
     "name": "stdout",
     "output_type": "stream",
     "text": [
      "Sum: 10\n",
      "name: Valeria\n",
      "age: 25\n",
      "city: St. Petersburg\n"
     ]
    }
   ],
   "source": [
    "# Function with *args\n",
    "def sum_numbers(*args):\n",
    "    return sum(args)\n",
    "\n",
    "# Call the function\n",
    "print(\"Sum:\", sum_numbers(1, 2, 3, 4))  # Output: Sum: 10\n",
    "\n",
    "# Function with **kwargs\n",
    "def describe_person(**kwargs):\n",
    "    for key, value in kwargs.items():\n",
    "        print(f\"{key}: {value}\")\n",
    "\n",
    "# Call the function\n",
    "describe_person(name=\"Valeria\", age=25, city=\"St. Petersburg\")\n",
    "# Output:\n",
    "# name: Valeria\n",
    "# age: 25\n",
    "# city: St. Petersburg"
   ]
  },
  {
   "cell_type": "code",
   "execution_count": 169,
   "metadata": {},
   "outputs": [
    {
     "name": "stdout",
     "output_type": "stream",
     "text": [
      "Sum: 15\n",
      "Difference: 5\n",
      "Product: 50\n"
     ]
    }
   ],
   "source": [
    "# Function returning multiple values\n",
    "def calculate(a, b):\n",
    "    return a + b, a - b, a * b\n",
    "\n",
    "# Call the function\n",
    "sum_result, diff_result, prod_result = calculate(10, 5)\n",
    "print(\"Sum:\", sum_result)  # Output: Sum: 15\n",
    "print(\"Difference:\", diff_result)  # Output: Difference: 5\n",
    "print(\"Product:\", prod_result)  # Output: Product: 50"
   ]
  },
  {
   "cell_type": "code",
   "execution_count": 170,
   "metadata": {},
   "outputs": [
    {
     "name": "stdout",
     "output_type": "stream",
     "text": [
      "Square of 5: 25\n",
      "Squared Numbers: [1, 4, 9, 16]\n"
     ]
    }
   ],
   "source": [
    "# Lambda function\n",
    "square = lambda x: x ** 2\n",
    "print(\"Square of 5:\", square(5))  # Output: Square of 5: 25\n",
    "\n",
    "# Using lambda with map\n",
    "numbers = [1, 2, 3, 4]\n",
    "squared_numbers = list(map(lambda x: x ** 2, numbers))\n",
    "print(\"Squared Numbers:\", squared_numbers)  # Output: Squared Numbers: [1, 4, 9, 16]"
   ]
  },
  {
   "cell_type": "code",
   "execution_count": 171,
   "metadata": {},
   "outputs": [
    {
     "name": "stdout",
     "output_type": "stream",
     "text": [
      "Factorial of 5: 120\n"
     ]
    }
   ],
   "source": [
    "# Recursive function to calculate factorial\n",
    "def factorial(n):\n",
    "    if n == 1:\n",
    "        return 1\n",
    "    else:\n",
    "        return n * factorial(n - 1)\n",
    "\n",
    "# Call the function\n",
    "print(\"Factorial of 5:\", factorial(5))  # Output: Factorial of 5: 120"
   ]
  },
  {
   "cell_type": "code",
   "execution_count": 172,
   "metadata": {},
   "outputs": [
    {
     "name": "stdout",
     "output_type": "stream",
     "text": [
      "Sum: 8\n"
     ]
    }
   ],
   "source": [
    "# Function with annotations\n",
    "def add_numbers(a: int, b: int) -> int:\n",
    "    return a + b\n",
    "\n",
    "# Call the function\n",
    "result = add_numbers(5, 3)\n",
    "print(\"Sum:\", result)  # Output: Sum: 8"
   ]
  },
  {
   "cell_type": "code",
   "execution_count": 173,
   "metadata": {},
   "outputs": [
    {
     "name": "stdout",
     "output_type": "stream",
     "text": [
      "Result: 10\n"
     ]
    }
   ],
   "source": [
    "# Nested functions\n",
    "def outer_function(x):\n",
    "    def inner_function(y):\n",
    "        return y * 2\n",
    "    return inner_function(x)\n",
    "\n",
    "# Call the outer function\n",
    "result = outer_function(5)\n",
    "print(\"Result:\", result)  # Output: Result: 10"
   ]
  },
  {
   "cell_type": "code",
   "execution_count": 174,
   "metadata": {},
   "outputs": [
    {
     "name": "stdout",
     "output_type": "stream",
     "text": [
      "Closure Result: 15\n"
     ]
    }
   ],
   "source": [
    "# Closure example\n",
    "def outer_function(x):\n",
    "    def inner_function(y):\n",
    "        return x + y\n",
    "    return inner_function\n",
    "\n",
    "# Create a closure\n",
    "closure = outer_function(10)\n",
    "print(\"Closure Result:\", closure(5))  # Output: Closure Result: 15"
   ]
  },
  {
   "cell_type": "code",
   "execution_count": 175,
   "metadata": {},
   "outputs": [
    {
     "name": "stdout",
     "output_type": "stream",
     "text": [
      "Something is happening before the function is called.\n",
      "Hello!\n",
      "Something is happening after the function is called.\n"
     ]
    }
   ],
   "source": [
    "# Decorator example\n",
    "def my_decorator(func):\n",
    "    def wrapper():\n",
    "        print(\"Something is happening before the function is called.\")\n",
    "        func()\n",
    "        print(\"Something is happening after the function is called.\")\n",
    "    return wrapper\n",
    "\n",
    "# Apply the decorator\n",
    "@my_decorator\n",
    "def say_hello():\n",
    "    print(\"Hello!\")\n",
    "\n",
    "# Call the decorated function\n",
    "say_hello()\n",
    "# Output:\n",
    "# Something is happening before the function is called.\n",
    "# Hello!\n",
    "# Something is happening after the function is called."
   ]
  },
  {
   "cell_type": "markdown",
   "metadata": {},
   "source": [
    "### Summary\n",
    "\n",
    "- **Functions** are reusable blocks of code that perform a specific task.\n",
    "- Use **parameters** and **arguments** to pass inputs to functions.\n",
    "- The **return** statement sends a result back to the caller.\n",
    "- **Default arguments** allow you to provide default values for parameters.\n",
    "- **Keyword arguments** make function calls more readable.\n",
    "- **Variable-length arguments** (`*args` and `**kwargs`) allow functions to accept a variable number of inputs.\n",
    "- **Lambda functions** are small anonymous functions.\n",
    "- **Recursive functions** call themselves.\n",
    "- **Function annotations** describe the types of parameters and return values.\n",
    "- **Nested functions** and **closures** allow for advanced function behavior.\n",
    "- **Decorators** modify the behavior of functions."
   ]
  },
  {
   "cell_type": "markdown",
   "metadata": {},
   "source": [
    "## Lists and Loops"
   ]
  },
  {
   "cell_type": "markdown",
   "metadata": {},
   "source": [
    "Lists are one of the most versatile data structures in Python. They are used to store collections of items, which can be of any type. Loops, on the other hand, allow you to iterate over these lists (or other iterables) to perform repetitive tasks.\n",
    "\n",
    "### Key Concepts:\n",
    "- **Lists**: Ordered, mutable collections of items.\n",
    "- **List Operations**: Adding, removing, and modifying items.\n",
    "- **List Comprehensions**: Concise way to create lists.\n",
    "- **Loops**: `for` and `while` loops for iteration.\n",
    "- **Nested Loops**: Loops inside loops for handling multi-dimensional data.\n",
    "- **Loop Control**: `break`, `continue`, and `pass` statements."
   ]
  },
  {
   "cell_type": "code",
   "execution_count": 176,
   "metadata": {},
   "outputs": [
    {
     "name": "stdout",
     "output_type": "stream",
     "text": [
      "Fruits: ['apple', 'banana', 'cherry']\n",
      "First fruit: apple\n",
      "Last fruit: cherry\n",
      "Updated Fruits: ['apple', 'blueberry', 'cherry']\n",
      "Fruits after append: ['apple', 'blueberry', 'cherry', 'orange']\n",
      "Fruits after remove: ['apple', 'cherry', 'orange']\n"
     ]
    }
   ],
   "source": [
    "# Create a list\n",
    "fruits = [\"apple\", \"banana\", \"cherry\"]\n",
    "print(\"Fruits:\", fruits)  # Output: Fruits: ['apple', 'banana', 'cherry']\n",
    "\n",
    "# Access elements\n",
    "print(\"First fruit:\", fruits[0])  # Output: First fruit: apple\n",
    "print(\"Last fruit:\", fruits[-1])  # Output: Last fruit: cherry\n",
    "\n",
    "# Modify elements\n",
    "fruits[1] = \"blueberry\"\n",
    "print(\"Updated Fruits:\", fruits)  # Output: Updated Fruits: ['apple', 'blueberry', 'cherry']\n",
    "\n",
    "# Add elements\n",
    "fruits.append(\"orange\")\n",
    "print(\"Fruits after append:\", fruits)  # Output: Fruits after append: ['apple', 'blueberry', 'cherry', 'orange']\n",
    "\n",
    "# Remove elements\n",
    "fruits.remove(\"blueberry\")\n",
    "print(\"Fruits after remove:\", fruits)  # Output: Fruits after remove: ['apple', 'cherry', 'orange']"
   ]
  },
  {
   "cell_type": "code",
   "execution_count": 177,
   "metadata": {},
   "outputs": [
    {
     "name": "stdout",
     "output_type": "stream",
     "text": [
      "First three numbers: [0, 1, 2]\n",
      "Numbers from index 2 to 5: [2, 3, 4, 5]\n",
      "Last three numbers: [7, 8, 9]\n"
     ]
    }
   ],
   "source": [
    "# List slicing\n",
    "numbers = [0, 1, 2, 3, 4, 5, 6, 7, 8, 9]\n",
    "print(\"First three numbers:\", numbers[:3])  # Output: First three numbers: [0, 1, 2]\n",
    "print(\"Numbers from index 2 to 5:\", numbers[2:6])  # Output: Numbers from index 2 to 5: [2, 3, 4, 5]\n",
    "print(\"Last three numbers:\", numbers[-3:])  # Output: Last three numbers: [7, 8, 9]"
   ]
  },
  {
   "cell_type": "code",
   "execution_count": 178,
   "metadata": {},
   "outputs": [
    {
     "name": "stdout",
     "output_type": "stream",
     "text": [
      "Squares: [0, 1, 4, 9, 16, 25, 36, 49, 64, 81]\n",
      "Even Numbers: [0, 2, 4, 6, 8, 10, 12, 14, 16, 18]\n"
     ]
    }
   ],
   "source": [
    "# Create a list of squares\n",
    "squares = [x**2 for x in range(10)]\n",
    "print(\"Squares:\", squares)  # Output: Squares: [0, 1, 4, 9, 16, 25, 36, 49, 64, 81]\n",
    "\n",
    "# Create a list of even numbers\n",
    "evens = [x for x in range(20) if x % 2 == 0]\n",
    "print(\"Even Numbers:\", evens)  # Output: Even Numbers: [0, 2, 4, 6, 8, 10, 12, 14, 16, 18]"
   ]
  },
  {
   "cell_type": "code",
   "execution_count": 179,
   "metadata": {},
   "outputs": [
    {
     "name": "stdout",
     "output_type": "stream",
     "text": [
      "Element at row 1, column 2: 6\n",
      "Flattened Matrix: [1, 2, 3, 4, 5, 6, 7, 8, 9]\n"
     ]
    }
   ],
   "source": [
    "# Nested list (2D list)\n",
    "matrix = [\n",
    "    [1, 2, 3],\n",
    "    [4, 5, 6],\n",
    "    [7, 8, 9]\n",
    "]\n",
    "\n",
    "# Access elements\n",
    "print(\"Element at row 1, column 2:\", matrix[1][2])  # Output: Element at row 1, column 2: 6\n",
    "\n",
    "# Flatten the matrix\n",
    "flattened = [num for row in matrix for num in row]\n",
    "print(\"Flattened Matrix:\", flattened)  # Output: Flattened Matrix: [1, 2, 3, 4, 5, 6, 7, 8, 9]"
   ]
  },
  {
   "cell_type": "code",
   "execution_count": 180,
   "metadata": {},
   "outputs": [
    {
     "name": "stdout",
     "output_type": "stream",
     "text": [
      "apple\n",
      "banana\n",
      "cherry\n",
      "Index 0: apple\n",
      "Index 1: banana\n",
      "Index 2: cherry\n"
     ]
    }
   ],
   "source": [
    "# Loop through a list\n",
    "fruits = [\"apple\", \"banana\", \"cherry\"]\n",
    "for fruit in fruits:\n",
    "    print(fruit)\n",
    "# Output:\n",
    "# apple\n",
    "# banana\n",
    "# cherry\n",
    "\n",
    "# Loop with index using enumerate\n",
    "for index, fruit in enumerate(fruits):\n",
    "    print(f\"Index {index}: {fruit}\")\n",
    "# Output:\n",
    "# Index 0: apple\n",
    "# Index 1: banana\n",
    "# Index 2: cherry"
   ]
  },
  {
   "cell_type": "code",
   "execution_count": 181,
   "metadata": {},
   "outputs": [
    {
     "name": "stdout",
     "output_type": "stream",
     "text": [
      "1\n",
      "2\n",
      "3\n",
      "4\n",
      "5\n"
     ]
    }
   ],
   "source": [
    "# While loop with list\n",
    "numbers = [1, 2, 3, 4, 5]\n",
    "index = 0\n",
    "while index < len(numbers):\n",
    "    print(numbers[index])\n",
    "    index += 1\n",
    "# Output:\n",
    "# 1\n",
    "# 2\n",
    "# 3\n",
    "# 4\n",
    "# 5"
   ]
  },
  {
   "cell_type": "code",
   "execution_count": 182,
   "metadata": {},
   "outputs": [
    {
     "name": "stdout",
     "output_type": "stream",
     "text": [
      "After append: [1, 2, 3, 4, 5, 6]\n",
      "After extend: [1, 2, 3, 4, 5, 6, 7, 8, 9]\n",
      "After insert: [0, 1, 2, 3, 4, 5, 6, 7, 8, 9]\n",
      "After remove: [1, 2, 3, 4, 5, 6, 7, 8, 9]\n",
      "Popped element: 9\n",
      "After pop: [1, 2, 3, 4, 5, 6, 7, 8]\n",
      "After reverse: [8, 7, 6, 5, 4, 3, 2, 1]\n",
      "After sort: [1, 2, 3, 4, 5, 6, 7, 8]\n"
     ]
    }
   ],
   "source": [
    "# List methods\n",
    "numbers = [1, 2, 3, 4, 5]\n",
    "\n",
    "# Append\n",
    "numbers.append(6)\n",
    "print(\"After append:\", numbers)  # Output: After append: [1, 2, 3, 4, 5, 6]\n",
    "\n",
    "# Extend\n",
    "numbers.extend([7, 8, 9])\n",
    "print(\"After extend:\", numbers)  # Output: After extend: [1, 2, 3, 4, 5, 6, 7, 8, 9]\n",
    "\n",
    "# Insert\n",
    "numbers.insert(0, 0)\n",
    "print(\"After insert:\", numbers)  # Output: After insert: [0, 1, 2, 3, 4, 5, 6, 7, 8, 9]\n",
    "\n",
    "# Remove\n",
    "numbers.remove(0)\n",
    "print(\"After remove:\", numbers)  # Output: After remove: [1, 2, 3, 4, 5, 6, 7, 8, 9]\n",
    "\n",
    "# Pop\n",
    "popped = numbers.pop()\n",
    "print(\"Popped element:\", popped)  # Output: Popped element: 9\n",
    "print(\"After pop:\", numbers)  # Output: After pop: [1, 2, 3, 4, 5, 6, 7, 8]\n",
    "\n",
    "# Reverse\n",
    "numbers.reverse()\n",
    "print(\"After reverse:\", numbers)  # Output: After reverse: [8, 7, 6, 5, 4, 3, 2, 1]\n",
    "\n",
    "# Sort\n",
    "numbers.sort()\n",
    "print(\"After sort:\", numbers)  # Output: After sort: [1, 2, 3, 4, 5, 6, 7, 8]"
   ]
  },
  {
   "cell_type": "code",
   "execution_count": 183,
   "metadata": {},
   "outputs": [
    {
     "name": "stdout",
     "output_type": "stream",
     "text": [
      "1 2 3 \n",
      "4 5 6 \n",
      "7 8 9 \n"
     ]
    }
   ],
   "source": [
    "# Nested loops with 2D list\n",
    "matrix = [\n",
    "    [1, 2, 3],\n",
    "    [4, 5, 6],\n",
    "    [7, 8, 9]\n",
    "]\n",
    "\n",
    "for row in matrix:\n",
    "    for num in row:\n",
    "        print(num, end=\" \")\n",
    "    print()\n",
    "# Output:\n",
    "# 1 2 3\n",
    "# 4 5 6\n",
    "# 7 8 9"
   ]
  },
  {
   "cell_type": "code",
   "execution_count": 184,
   "metadata": {},
   "outputs": [
    {
     "name": "stdout",
     "output_type": "stream",
     "text": [
      "Even Numbers: [2, 4, 6, 8]\n"
     ]
    }
   ],
   "source": [
    "# List comprehension with condition\n",
    "numbers = [1, 2, 3, 4, 5, 6, 7, 8, 9]\n",
    "evens = [x for x in numbers if x % 2 == 0]\n",
    "print(\"Even Numbers:\", evens)  # Output: Even Numbers: [2, 4, 6, 8]"
   ]
  },
  {
   "cell_type": "code",
   "execution_count": 185,
   "metadata": {},
   "outputs": [
    {
     "name": "stdout",
     "output_type": "stream",
     "text": [
      "Original: [1, 2, 3]\n",
      "Copy: [1, 2, 3, 4]\n"
     ]
    }
   ],
   "source": [
    "# Copying lists\n",
    "original = [1, 2, 3]\n",
    "copy = original.copy()  # Creates a shallow copy\n",
    "copy.append(4)\n",
    "print(\"Original:\", original)  # Output: Original: [1, 2, 3]\n",
    "print(\"Copy:\", copy)  # Output: Copy: [1, 2, 3, 4]"
   ]
  },
  {
   "cell_type": "markdown",
   "metadata": {},
   "source": [
    "### Summary\n",
    "\n",
    "- **Lists** are ordered, mutable collections of items.\n",
    "- Use **list operations** like `append`, `remove`, and `insert` to modify lists.\n",
    "- **List comprehensions** provide a concise way to create lists.\n",
    "- **Loops** (`for` and `while`) allow you to iterate over lists.\n",
    "- **Nested loops** are useful for multi-dimensional data.\n",
    "- **List methods** like `sort`, `reverse`, and `extend` provide additional functionality.\n",
    "- Be cautious when **copying lists** to avoid unintended references."
   ]
  },
  {
   "cell_type": "markdown",
   "metadata": {},
   "source": [
    "## Dictionaries"
   ]
  },
  {
   "cell_type": "markdown",
   "metadata": {},
   "source": [
    "Dictionaries in Python are unordered collections of key-value pairs. They are used to store data in a way that allows for fast lookups, insertions, and deletions. Each key in a dictionary must be unique, and it maps to a specific value.\n",
    "\n",
    "### Key Concepts:\n",
    "- **Keys and Values**: Keys are unique identifiers, and values are the data associated with those keys.\n",
    "- **Mutable**: Dictionaries can be modified after creation.\n",
    "- **Unordered**: The order of items in a dictionary is not guaranteed.\n",
    "- **Dictionary Methods**: Built-in methods for adding, removing, and modifying items.\n",
    "- **Dictionary Comprehensions**: Concise way to create dictionaries.\n",
    "- **Nested Dictionaries**: Dictionaries can contain other dictionaries."
   ]
  },
  {
   "cell_type": "code",
   "execution_count": 186,
   "metadata": {},
   "outputs": [
    {
     "name": "stdout",
     "output_type": "stream",
     "text": [
      "Name: Helen\n",
      "Age: 21\n",
      "Updated Age: 22\n",
      "Updated Student: {'name': 'Helen', 'age': 22, 'is_student': True, 'city': 'Moscow'}\n",
      "After Deletion: {'name': 'Helen', 'age': 22, 'city': 'Moscow'}\n"
     ]
    }
   ],
   "source": [
    "# Create a dictionary\n",
    "student = {\n",
    "    \"name\": \"Helen\",\n",
    "    \"age\": 21,\n",
    "    \"is_student\": True\n",
    "}\n",
    "\n",
    "# Access values\n",
    "print(\"Name:\", student[\"name\"])  # Output: Name: Helen\n",
    "print(\"Age:\", student[\"age\"])  # Output: Age: 21\n",
    "\n",
    "# Modify values\n",
    "student[\"age\"] = 22\n",
    "print(\"Updated Age:\", student[\"age\"])  # Output: Updated Age: 22\n",
    "\n",
    "# Add new key-value pair\n",
    "student[\"city\"] = \"Moscow\"\n",
    "print(\"Updated Student:\", student)\n",
    "# Output: Updated Student: {'name': 'Helen', 'age': 22, 'is_student': True, 'city': 'Moscow'}\n",
    "\n",
    "# Remove key-value pair\n",
    "del student[\"is_student\"]\n",
    "print(\"After Deletion:\", student)\n",
    "# Output: After Deletion: {'name': 'Helen', 'age': 22, 'city': 'Moscow'}"
   ]
  },
  {
   "cell_type": "code",
   "execution_count": 187,
   "metadata": {},
   "outputs": [
    {
     "name": "stdout",
     "output_type": "stream",
     "text": [
      "Keys: dict_keys(['name', 'age', 'is_student'])\n",
      "Values: dict_values(['Nikita', 21, True])\n",
      "Items: dict_items([('name', 'Nikita'), ('age', 21), ('is_student', True)])\n",
      "Has 'name': True\n",
      "Has 'city': False\n",
      "City: Unknown\n",
      "Popped Age: 21\n",
      "After Pop: {'name': 'Nikita', 'is_student': True}\n",
      "After Clear: {}\n"
     ]
    }
   ],
   "source": [
    "# Dictionary methods\n",
    "student = {\n",
    "    \"name\": \"Nikita\",\n",
    "    \"age\": 21,\n",
    "    \"is_student\": True\n",
    "}\n",
    "\n",
    "# Get keys\n",
    "print(\"Keys:\", student.keys())  # Output: Keys: dict_keys(['name', 'age', 'is_student'])\n",
    "\n",
    "# Get values\n",
    "print(\"Values:\", student.values())  # Output: Values: dict_values(['Nikita', 21, True])\n",
    "\n",
    "# Get key-value pairs\n",
    "print(\"Items:\", student.items())  # Output: Items: dict_items([('name', 'Nikita'), ('age', 21), ('is_student', True)])\n",
    "\n",
    "# Check if key exists\n",
    "print(\"Has 'name':\", \"name\" in student)  # Output: Has 'name': True\n",
    "print(\"Has 'city':\", \"city\" in student)  # Output: Has 'city': False\n",
    "\n",
    "# Get value with default\n",
    "print(\"City:\", student.get(\"city\", \"Unknown\"))  # Output: City: Unknown\n",
    "\n",
    "# Remove and return value\n",
    "age = student.pop(\"age\")\n",
    "print(\"Popped Age:\", age)  # Output: Popped Age: 21\n",
    "print(\"After Pop:\", student)  # Output: After Pop: {'name': 'Nikita', 'is_student': True}\n",
    "\n",
    "# Clear dictionary\n",
    "student.clear()\n",
    "print(\"After Clear:\", student)  # Output: After Clear: {}"
   ]
  },
  {
   "cell_type": "code",
   "execution_count": 188,
   "metadata": {},
   "outputs": [
    {
     "name": "stdout",
     "output_type": "stream",
     "text": [
      "Squares: {0: 0, 1: 1, 2: 4, 3: 9, 4: 16}\n",
      "Even Squares: {0: 0, 2: 4, 4: 16, 6: 36, 8: 64}\n"
     ]
    }
   ],
   "source": [
    "# Dictionary comprehension\n",
    "squares = {x: x**2 for x in range(5)}\n",
    "print(\"Squares:\", squares)  # Output: Squares: {0: 0, 1: 1, 2: 4, 3: 9, 4: 16}\n",
    "\n",
    "# Dictionary comprehension with condition\n",
    "even_squares = {x: x**2 for x in range(10) if x % 2 == 0}\n",
    "print(\"Even Squares:\", even_squares)  # Output: Even Squares: {0: 0, 2: 4, 4: 16, 6: 36, 8: 64}"
   ]
  },
  {
   "cell_type": "code",
   "execution_count": 189,
   "metadata": {},
   "outputs": [
    {
     "name": "stdout",
     "output_type": "stream",
     "text": [
      "Victoria's Courses: ['Math', 'Physics']\n",
      "Vladimir's Age: 22\n",
      "Updated Victoria's Age: 22\n"
     ]
    }
   ],
   "source": [
    "# Nested dictionary\n",
    "students = {\n",
    "    \"Victoria\": {\n",
    "        \"age\": 21,\n",
    "        \"courses\": [\"Math\", \"Physics\"]\n",
    "    },\n",
    "    \"Vladimir\": {\n",
    "        \"age\": 22,\n",
    "        \"courses\": [\"Chemistry\", \"Biology\"]\n",
    "    }\n",
    "}\n",
    "\n",
    "# Access nested data\n",
    "print(\"Victoria's Courses:\", students[\"Victoria\"][\"courses\"])  # Output: Victoria's Courses: ['Math', 'Physics']\n",
    "print(\"Vladimir's Age:\", students[\"Vladimir\"][\"age\"])  # Output: Vladimir's Age: 22\n",
    "\n",
    "# Modify nested data\n",
    "students[\"Victoria\"][\"age\"] = 22\n",
    "print(\"Updated Victoria's Age:\", students[\"Victoria\"][\"age\"])  # Output: Updated Victoria's Age: 22"
   ]
  },
  {
   "cell_type": "code",
   "execution_count": 190,
   "metadata": {},
   "outputs": [
    {
     "name": "stdout",
     "output_type": "stream",
     "text": [
      "Merged Dictionary (update): {'a': 1, 'b': 3, 'c': 4}\n",
      "Merged Dictionary (| operator): {'a': 1, 'b': 3, 'c': 4}\n"
     ]
    }
   ],
   "source": [
    "# Merge dictionaries\n",
    "dict1 = {\"a\": 1, \"b\": 2}\n",
    "dict2 = {\"b\": 3, \"c\": 4}\n",
    "\n",
    "# Using update()\n",
    "dict1.update(dict2)\n",
    "print(\"Merged Dictionary (update):\", dict1)  # Output: Merged Dictionary (update): {'a': 1, 'b': 3, 'c': 4}\n",
    "\n",
    "# Using | operator (Python 3.9+)\n",
    "dict3 = {\"a\": 1, \"b\": 2}\n",
    "dict4 = {\"b\": 3, \"c\": 4}\n",
    "merged_dict = dict3 | dict4\n",
    "print(\"Merged Dictionary (| operator):\", merged_dict)  # Output: Merged Dictionary (| operator): {'a': 1, 'b': 3, 'c': 4}"
   ]
  },
  {
   "cell_type": "code",
   "execution_count": 191,
   "metadata": {},
   "outputs": [
    {
     "name": "stdout",
     "output_type": "stream",
     "text": [
      "name\n",
      "age\n",
      "is_student\n",
      "name: Karina\n",
      "age: 21\n",
      "is_student: True\n"
     ]
    }
   ],
   "source": [
    "# Loop through keys\n",
    "student = {\n",
    "    \"name\": \"Karina\",\n",
    "    \"age\": 21,\n",
    "    \"is_student\": True\n",
    "}\n",
    "\n",
    "for key in student:\n",
    "    print(key)\n",
    "# Output:\n",
    "# name\n",
    "# age\n",
    "# is_student\n",
    "\n",
    "# Loop through key-value pairs\n",
    "for key, value in student.items():\n",
    "    print(f\"{key}: {value}\")\n",
    "# Output:\n",
    "# name: Karina\n",
    "# age: 21\n",
    "# is_student: True"
   ]
  },
  {
   "cell_type": "code",
   "execution_count": 192,
   "metadata": {},
   "outputs": [
    {
     "name": "stdout",
     "output_type": "stream",
     "text": [
      "Student Dictionary: {'name': 'George', 'age': 21, 'city': 'St. Petersburg'}\n"
     ]
    }
   ],
   "source": [
    "# Create dictionary from lists\n",
    "keys = [\"name\", \"age\", \"city\"]\n",
    "values = [\"George\", 21, \"St. Petersburg\"]\n",
    "\n",
    "student = dict(zip(keys, values))\n",
    "print(\"Student Dictionary:\", student)  # Output: Student Dictionary: {'name': 'George', 'age': 21, 'city': 'St. Petersburg'}"
   ]
  },
  {
   "cell_type": "code",
   "execution_count": 193,
   "metadata": {},
   "outputs": [
    {
     "name": "stdout",
     "output_type": "stream",
     "text": [
      "Fruit Counts: {'apple': 3, 'banana': 2, 'orange': 1}\n"
     ]
    }
   ],
   "source": [
    "from collections import defaultdict\n",
    "\n",
    "# defaultdict example\n",
    "fruit_counts = defaultdict(int)\n",
    "fruits = [\"apple\", \"banana\", \"apple\", \"orange\", \"banana\", \"apple\"]\n",
    "\n",
    "for fruit in fruits:\n",
    "    fruit_counts[fruit] += 1\n",
    "\n",
    "print(\"Fruit Counts:\", dict(fruit_counts))  # Output: Fruit Counts: {'apple': 3, 'banana': 2, 'orange': 1}"
   ]
  },
  {
   "cell_type": "code",
   "execution_count": 194,
   "metadata": {},
   "outputs": [
    {
     "name": "stdout",
     "output_type": "stream",
     "text": [
      "Sorted by Keys: {'age': 21, 'city': 'Sochi', 'name': 'Ekaterina'}\n",
      "Sorted by Values: {'banana': 0.25, 'apple': 0.5, 'orange': 0.75}\n"
     ]
    }
   ],
   "source": [
    "# Sort dictionary by keys\n",
    "student = {\n",
    "    \"name\": \"Ekaterina\",\n",
    "    \"age\": 21,\n",
    "    \"city\": \"Sochi\"\n",
    "}\n",
    "\n",
    "sorted_by_keys = dict(sorted(student.items()))\n",
    "print(\"Sorted by Keys:\", sorted_by_keys)  # Output: Sorted by Keys: {'age': 21, 'city': 'Sochi', 'name': 'Ekaterina'}\n",
    "\n",
    "# Sort dictionary by values\n",
    "fruit_prices = {\n",
    "    \"apple\": 0.5,\n",
    "    \"banana\": 0.25,\n",
    "    \"orange\": 0.75\n",
    "}\n",
    "\n",
    "sorted_by_values = dict(sorted(fruit_prices.items(), key=lambda item: item[1]))\n",
    "print(\"Sorted by Values:\", sorted_by_values)  # Output: Sorted by Values: {'banana': 0.25, 'apple': 0.5, 'orange': 0.75}"
   ]
  },
  {
   "cell_type": "markdown",
   "metadata": {},
   "source": [
    "### Summary\n",
    "\n",
    "- **Dictionaries** store key-value pairs and allow for fast lookups.\n",
    "- Use **dictionary methods** like `keys()`, `values()`, and `items()` to access data.\n",
    "- **Dictionary comprehensions** provide a concise way to create dictionaries.\n",
    "- **Nested dictionaries** allow for complex data structures.\n",
    "- Use `update()` or the `|` operator to **merge dictionaries**.\n",
    "- Loop through dictionaries using `for` loops.\n",
    "- Use `defaultdict` for **default values**.\n",
    "- Sort dictionaries by keys or values using `sorted()`."
   ]
  },
  {
   "cell_type": "markdown",
   "metadata": {},
   "source": [
    "## File Handling"
   ]
  },
  {
   "cell_type": "markdown",
   "metadata": {},
   "source": [
    "File handling in Python allows you to work with files on your computer. You can read from files, write to files, and manipulate file content. Python provides built-in functions and methods to perform these operations.\n",
    "\n",
    "### Key Concepts:\n",
    "- **Opening Files**: Use the `open()` function to open a file.\n",
    "- **Reading Files**: Read content from a file using methods like `read()`, `readline()`, and `readlines()`.\n",
    "- **Writing Files**: Write content to a file using methods like `write()` and `writelines()`.\n",
    "- **Appending to Files**: Add content to the end of a file without overwriting it.\n",
    "- **Closing Files**: Always close files after operations using the `close()` method or the `with` statement.\n",
    "- **File Modes**: Specify the mode (`r`, `w`, `a`, `b`, `+`) when opening a file.\n",
    "- **Working with Binary Files**: Handle binary data using the `b` mode.\n",
    "- **Exception Handling**: Use `try-except` blocks to handle file-related errors."
   ]
  },
  {
   "cell_type": "code",
   "execution_count": 196,
   "metadata": {},
   "outputs": [
    {
     "name": "stdout",
     "output_type": "stream",
     "text": [
      "File Content:\n",
      "Hello everyone!\n",
      "How are you?\n",
      "Have a nice day!\n"
     ]
    }
   ],
   "source": [
    "# Open a file in read mode\n",
    "file = open(\"example.txt\", \"r\")\n",
    "\n",
    "# Read the entire file content\n",
    "content = file.read()\n",
    "print(\"File Content:\")\n",
    "print(content)\n",
    "\n",
    "# Close the file\n",
    "file.close()"
   ]
  },
  {
   "cell_type": "code",
   "execution_count": 197,
   "metadata": {},
   "outputs": [
    {
     "name": "stdout",
     "output_type": "stream",
     "text": [
      "File Content Line by Line:\n",
      "Hello everyone!\n",
      "How are you?\n",
      "Have a nice day!"
     ]
    }
   ],
   "source": [
    "# Open a file in read mode\n",
    "file = open(\"example.txt\", \"r\")\n",
    "\n",
    "# Read the file line by line\n",
    "print(\"File Content Line by Line:\")\n",
    "for line in file:\n",
    "    print(line, end=\"\")  # end=\"\" prevents extra newlines\n",
    "\n",
    "# Close the file\n",
    "file.close()"
   ]
  },
  {
   "cell_type": "code",
   "execution_count": 198,
   "metadata": {},
   "outputs": [],
   "source": [
    "# Open a file in write mode (creates a new file or overwrites existing content)\n",
    "file = open(\"output.txt\", \"w\")\n",
    "\n",
    "# Write content to the file\n",
    "file.write(\"Hello, World!\\n\")\n",
    "file.write(\"This is a new line.\")\n",
    "\n",
    "# Close the file\n",
    "file.close()"
   ]
  },
  {
   "cell_type": "code",
   "execution_count": 199,
   "metadata": {},
   "outputs": [],
   "source": [
    "# Open a file in append mode\n",
    "file = open(\"output.txt\", \"a\")\n",
    "\n",
    "# Append content to the file\n",
    "file.write(\"\\nThis line is appended.\")\n",
    "\n",
    "# Close the file\n",
    "file.close()"
   ]
  },
  {
   "cell_type": "code",
   "execution_count": 200,
   "metadata": {},
   "outputs": [
    {
     "name": "stdout",
     "output_type": "stream",
     "text": [
      "File Content:\n",
      "Hello everyone!\n",
      "How are you?\n",
      "Have a nice day!\n"
     ]
    }
   ],
   "source": [
    "# Using with statement\n",
    "with open(\"example.txt\", \"r\") as file:\n",
    "    content = file.read()\n",
    "    print(\"File Content:\")\n",
    "    print(content)"
   ]
  },
  {
   "cell_type": "code",
   "execution_count": 201,
   "metadata": {},
   "outputs": [
    {
     "name": "stdout",
     "output_type": "stream",
     "text": [
      "First Line: Hello everyone!\n",
      "Third Line: Have a nice day!\n"
     ]
    }
   ],
   "source": [
    "# Read specific lines from a file\n",
    "with open(\"example.txt\", \"r\") as file:\n",
    "    lines = file.readlines()\n",
    "    print(\"First Line:\", lines[0].strip())  # strip() removes extra newlines\n",
    "    print(\"Third Line:\", lines[2].strip())"
   ]
  },
  {
   "cell_type": "code",
   "execution_count": 202,
   "metadata": {},
   "outputs": [],
   "source": [
    "# Write multiple lines to a file\n",
    "lines = [\"Line 1\\n\", \"Line 2\\n\", \"Line 3\\n\"]\n",
    "\n",
    "with open(\"output.txt\", \"w\") as file:\n",
    "    file.writelines(lines)"
   ]
  },
  {
   "cell_type": "code",
   "execution_count": 203,
   "metadata": {},
   "outputs": [
    {
     "name": "stdout",
     "output_type": "stream",
     "text": [
      "Binary Content: b'Binary data'\n"
     ]
    }
   ],
   "source": [
    "# Write binary data to a file\n",
    "with open(\"binary_file.bin\", \"wb\") as file:\n",
    "    file.write(b\"Binary data\")\n",
    "\n",
    "# Read binary data from a file\n",
    "with open(\"binary_file.bin\", \"rb\") as file:\n",
    "    content = file.read()\n",
    "    print(\"Binary Content:\", content)  # Output: Binary Content: b'Binary data'"
   ]
  },
  {
   "cell_type": "code",
   "execution_count": 204,
   "metadata": {},
   "outputs": [
    {
     "name": "stdout",
     "output_type": "stream",
     "text": [
      "Error: The file does not exist.\n"
     ]
    }
   ],
   "source": [
    "# Exception handling\n",
    "try:\n",
    "    with open(\"missing_file.txt\", \"r\") as file:\n",
    "        content = file.read()\n",
    "        print(content)\n",
    "except FileNotFoundError:\n",
    "    print(\"Error: The file does not exist.\")\n",
    "except Exception as e:\n",
    "    print(f\"An error occurred: {e}\")"
   ]
  },
  {
   "cell_type": "code",
   "execution_count": 205,
   "metadata": {},
   "outputs": [
    {
     "name": "stdout",
     "output_type": "stream",
     "text": [
      "['Name', 'Age', 'City']\n",
      "['Dmitriy', '21', 'Moscow']\n",
      "['Antonina', '22', 'Kazan']\n"
     ]
    }
   ],
   "source": [
    "import csv\n",
    "\n",
    "# Writing to a CSV file\n",
    "data = [\n",
    "    [\"Name\", \"Age\", \"City\"],\n",
    "    [\"Dmitriy\", 21, \"Moscow\"],\n",
    "    [\"Antonina\", 22, \"Kazan\"]\n",
    "]\n",
    "\n",
    "with open(\"data.csv\", \"w\", newline=\"\") as file:\n",
    "    writer = csv.writer(file)\n",
    "    writer.writerows(data)\n",
    "\n",
    "# Reading from a CSV file\n",
    "with open(\"data.csv\", \"r\") as file:\n",
    "    reader = csv.reader(file)\n",
    "    for row in reader:\n",
    "        print(row)\n",
    "# Output:\n",
    "# ['Name', 'Age', 'City']\n",
    "# ['Dmitriy', '21', 'Moscow']\n",
    "# ['Antonina', '22', 'Kazan']"
   ]
  },
  {
   "cell_type": "code",
   "execution_count": 206,
   "metadata": {},
   "outputs": [
    {
     "name": "stdout",
     "output_type": "stream",
     "text": [
      "JSON Content: {'name': 'Yuriy', 'age': 21, 'city': 'Kaliningrad'}\n"
     ]
    }
   ],
   "source": [
    "import json\n",
    "\n",
    "# Writing to a JSON file\n",
    "data = {\n",
    "    \"name\": \"Yuriy\",\n",
    "    \"age\": 21,\n",
    "    \"city\": \"Kaliningrad\"\n",
    "}\n",
    "\n",
    "with open(\"data.json\", \"w\") as file:\n",
    "    json.dump(data, file)\n",
    "\n",
    "# Reading from a JSON file\n",
    "with open(\"data.json\", \"r\") as file:\n",
    "    content = json.load(file)\n",
    "    print(\"JSON Content:\", content)\n",
    "# Output: JSON Content: {'name': 'Yuriy', 'age': 21, 'city': 'Kaliningrad'}"
   ]
  },
  {
   "cell_type": "code",
   "execution_count": 207,
   "metadata": {},
   "outputs": [],
   "source": [
    "# Example of using 'r+' mode\n",
    "with open(\"example.txt\", \"r+\") as file:\n",
    "    content = file.read()\n",
    "    file.write(\"\\nNew content added.\")"
   ]
  },
  {
   "cell_type": "markdown",
   "metadata": {},
   "source": [
    "### Summary\n",
    "\n",
    "- Use `open()` to open files and specify the mode (`r`, `w`, `a`, etc.).\n",
    "- Read files using `read()`, `readline()`, or `readlines()`.\n",
    "- Write files using `write()` or `writelines()`.\n",
    "- Use the `with` statement for automatic file closing.\n",
    "- Handle binary files using the `b` mode.\n",
    "- Use `try-except` blocks to handle file-related errors.\n",
    "- Work with CSV and JSON files using the `csv` and `json` modules."
   ]
  },
  {
   "cell_type": "markdown",
   "metadata": {},
   "source": []
  }
 ],
 "metadata": {
  "kernelspec": {
   "display_name": "Python 3",
   "language": "python",
   "name": "python3"
  },
  "language_info": {
   "codemirror_mode": {
    "name": "ipython",
    "version": 3
   },
   "file_extension": ".py",
   "mimetype": "text/x-python",
   "name": "python",
   "nbconvert_exporter": "python",
   "pygments_lexer": "ipython3",
   "version": "3.11.3"
  }
 },
 "nbformat": 4,
 "nbformat_minor": 2
}
