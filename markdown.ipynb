{
  "cells": [
    {
      "cell_type": "markdown",
      "metadata": {
        "id": "lLTM1Gwfm9dV"
      },
      "source": [
        "# Markdown"
      ]
    },
    {
      "cell_type": "markdown",
      "metadata": {
        "id": "AVwbC168P2Cg"
      },
      "source": [
        "IPYNB notebooks are composed of two types of cells.\n",
        "Blocks of text and blocks of code.\n",
        "\n",
        "Main tools to learn are\n",
        "1. Markdown\n",
        "- Headings\n",
        "- Emphasis (**bold**, *italics* and ~strikethrough~)\n",
        "- Lists\n",
        "- Links\n",
        "- Images\n",
        "- Code and Syntax Highlighting\n",
        "- Tables\n",
        "- Block Quotes\n",
        "- Horizontal Lines\n",
        "\n",
        "2. $\\LaTeX$\n",
        "- Inline math\n",
        "- Block math"
      ]
    },
    {
      "cell_type": "markdown",
      "metadata": {
        "id": "DJKo1bjwRnli"
      },
      "source": [
        "## Headings\n",
        "\n",
        "Headers are used to help section parts of your document and are created using a \\# symbol before the text to be used as a title for your header.\n",
        "\n",
        "\n",
        "A title header will use only one \\#.\n",
        "\n",
        " A subtitle will use two \\##.\n",
        "\n",
        "  The more \\# the lower the level of headers.\n",
        "# Header 1\n",
        "## Header 2\n",
        "### Header 3\n",
        "#### Header 4\n",
        "##### Header 5\n",
        "###### Header 6"
      ]
    },
    {
      "cell_type": "markdown",
      "metadata": {
        "id": "EXCanO3R8H9t"
      },
      "source": [
        "-----\n",
        "## Emphasis\n",
        "\n",
        "\n",
        "```\n",
        "Emphasis, aka italics, with *asterisks* or _underscores_.\n",
        "\n",
        "Strong emphasis, aka bold, with **asterisks** or __underscores__.\n",
        "\n",
        "Combined emphasis with **asterisks and _underscores_**.\n",
        "\n",
        "Strikethrough uses a tilde. ~Scratch this.~\n",
        "```\n",
        "\n",
        "Emphasis, aka italics, with *asterisks* or _underscores_.\n",
        "\n",
        "Strong emphasis, aka bold, with **asterisks** or __underscores__.\n",
        "\n",
        "Combined emphasis with **asterisks and _underscores_**.\n",
        "\n",
        "Strikethrough uses a tilde. ~Scratch this.~\n",
        "\n",
        "---\n"
      ]
    },
    {
      "cell_type": "markdown",
      "metadata": {
        "id": "kn949qKhGxDw"
      },
      "source": [
        "## Lists\n"
      ]
    },
    {
      "cell_type": "markdown",
      "metadata": {
        "id": "iJC7EmmBGzRe"
      },
      "source": [
        "1. First ordered list item\n",
        "2. Another item\n",
        "  * Unordered sub-list.\n",
        "\n",
        "1. Actual numbers don't matter, just that it's a number\n",
        "  1. Ordered sub-list\n",
        "4. And another item.\n",
        "\n",
        "  You can have properly indented paragraphs within list items. Notice the blank line above, and the leading spaces (at least one, but we'll use three here to also align the raw Markdown).\n",
        "\n",
        "  To have a line break without a paragraph, you will need to use two trailing\n",
        "  spaces.    Note that this line is separate, but within the same paragraph.  (This is contrary to the typical GFM line break behaviour, where trailing paces are not required.)\n",
        "\n",
        "* Unordered list can use asterisks\n",
        "- Or minuses\n",
        "+ Or pluses"
      ]
    },
    {
      "cell_type": "markdown",
      "metadata": {
        "id": "v2f8IFfue1yP"
      },
      "source": [
        "---\n",
        "## Links\n",
        "Sometimes linking to another website is necesarry in situations where one needs to make a reference or point to a source of information. This is especially useful for tutorials and assignments.\n",
        "\n",
        "to make a link in Markdown use the following syntax\n",
        "\n",
        "~~~\n",
        "[text to click on](hhtps://someurl.com)\n",
        "~~~\n",
        "\n",
        "the square brackets and parentheses are NEEDED\n",
        "\n"
      ]
    },
    {
      "cell_type": "markdown",
      "metadata": {
        "id": "0UDxFyNMjgIn"
      },
      "source": [
        "[Link to a Great Markdown Reference](https://github.com/adam-p/markdown-here/wiki/Markdown-Cheatsheet#links)\n"
      ]
    },
    {
      "cell_type": "markdown",
      "metadata": {
        "id": "ezPe_YMH1gkf"
      },
      "source": [
        "Here are all the methods one can use to create links\n",
        "\n",
        "```\n",
        "[I'm an inline-style link](https://www.google.com)\n",
        "\n",
        "[I'm an inline-style link with title](https://www.google.com \"Google's Homepage\")\n",
        "```\n",
        "\n",
        "[I'm an inline-style link](https://www.google.com)\n",
        "\n",
        "[I'm an inline-style link with title](https://www.google.com \"Google's Homepage\")\n",
        "\n",
        "\n",
        "---\n",
        "\n",
        "\n",
        "\n",
        "```\n",
        "[I'm a reference-style link][Arbitrary case-insensitive reference text]\n",
        "\n",
        "\n",
        "[You can use numbers for reference-style link definitions][1]\n",
        "\n",
        "Some text to show that the reference links can follow later.\n",
        "\n",
        "[arbitrary case-insensitive reference text]: https://www.mozilla.org\n",
        "[1]: http://slashdot.org\n",
        "\n",
        "```\n",
        "\n",
        "\n",
        "[I'm a reference-style link][Arbitrary case-insensitive reference text]\n",
        "\n",
        "\n",
        "[You can use numbers for reference-style link definitions][1]\n",
        "\n",
        "\n",
        "Some text to show that the reference links can follow later.\n",
        "\n",
        "[arbitrary case-insensitive reference text]: https://www.mozilla.org\n",
        "[1]: http://slashdot.org\n",
        "\n",
        "---\n",
        "\n",
        "```\n",
        "\n",
        "Or leave it empty and use the [link text itself].\n",
        "\n",
        "URLs and URLs in angle brackets will automatically get turned into links.\n",
        "http://www.example.com or <http://www.example.com> and sometimes\n",
        "example.com (but not on Github, for example).\n",
        "\n",
        "```\n",
        "\n",
        "---\n",
        "\n",
        "\n",
        "Or leave it empty and use the [link text itself].\n",
        "\n",
        "URLs and URLs in angle brackets will automatically get turned into links.\n",
        "http://www.example.com or <http://www.example.com> and sometimes\n",
        "example.com (but not on Github, for example).\n",
        "\n",
        "[link text itself]: http://www.reddit.com\n"
      ]
    },
    {
      "cell_type": "markdown",
      "metadata": {
        "id": "8m6HRBNzHICW"
      },
      "source": [
        "## Images"
      ]
    },
    {
      "cell_type": "markdown",
      "metadata": {
        "id": "DzV4x_k_HOY0"
      },
      "source": [
        " To produce images the syntax is `![alternative text](path/to/image \"Optional title\")`"
      ]
    },
    {
      "cell_type": "markdown",
      "metadata": {
        "id": "lAimbPBQbMng"
      },
      "source": [
        "Alternative text is some text that is showed in case the image cannot be found by the browser. It generally holds a brief description of what is suppose to be seen."
      ]
    },
    {
      "cell_type": "markdown",
      "metadata": {
        "id": "jdS8NTrYHnK0"
      },
      "source": [
        "\n",
        "\n",
        "```\n",
        "Here's our logo (hover to see the title text):\n",
        "Inline-style:\n",
        "![alt text](https://github.com/adam-p/markdown-here/raw/master/src/common/images/icon48.png \"Logo Title Text 1\")\n",
        "\n",
        "Reference-style:\n",
        "![alt text][logo]\n",
        "\n",
        "[logo]: https://upload.wikimedia.org/wikipedia/commons/9/9a/Logo_UPRM.jpg \"UPRM LOGO\"\n",
        "```\n",
        "\n"
      ]
    },
    {
      "cell_type": "markdown",
      "metadata": {
        "id": "kTmY39_bHhDo"
      },
      "source": [
        "Here's our logo (hover to see the title text):\n",
        "\n",
        "Inline-style:\n",
        "![alt text](https://spbu.ru/themes/spbgu/markup/dist/img/logo-big.svg \"Logo Title Text 1\")\n",
        "\n",
        "Reference-style:\n",
        "![alt text][logo]\n",
        "\n",
        "[logo]: https://spbu.ru/themes/spbgu/markup/dist/img/logo-big.svg \"UPRM LOGO\""
      ]
    },
    {
      "cell_type": "markdown",
      "metadata": {
        "id": "w1swI3spi36M"
      },
      "source": [
        "\n",
        " In Colab it is easiest to produce a url to the image. Images you upload to the notebook have to be accessed via python code like below\n"
      ]
    },
    {
      "cell_type": "markdown",
      "metadata": {
        "id": "wo9wb-4rS_7b"
      },
      "source": [
        "## Code and Syntax Highlighting\n"
      ]
    },
    {
      "cell_type": "markdown",
      "metadata": {
        "id": "cNW6winJY9Zz"
      },
      "source": [
        "There are two types of ways to include code or `monospace` text in Colab\n",
        "\n",
        "One is `inline code which displays all text as it is typed` in the same line as this sentence. There is also code block\n",
        "```\n",
        "which gives the code or text it's own space\n",
        "```"
      ]
    },
    {
      "cell_type": "markdown",
      "metadata": {
        "id": "EdalhpFhev7f"
      },
      "source": [
        "There is also Syntax Highlighting for :\n",
        "\n",
        "*  Python\n",
        "*  Ruby\n",
        "*  Shell\n",
        "*  C++\n",
        "*  JavaScript\n",
        "\n",
        "Most of the other languages **are not supported**.\n",
        "\n",
        "There are other flavours of Markdown that support many more languages!\n",
        "\n",
        "```python\n",
        "# This is a highlighted python code\n",
        "def is_even(x):\n",
        "  if x % 2 == 0:\n",
        "    print(\"{} is even\".format(x))\n",
        "```\n",
        "```\n",
        "# this is the same code without highlighting\n",
        "def is_even(x):\n",
        "  if x % 2 == 0:\n",
        "    print(\"{} is even\".format(x))\n",
        "```\n",
        "\n"
      ]
    },
    {
      "cell_type": "markdown",
      "metadata": {
        "id": "_p0MkVeJAW6i"
      },
      "source": [
        "## Tables\n",
        "Tables are a bit more demanding to code in this enviroment since we are usually used to making table in programs that are more \"what you see is what you get\" like Microsoft Office or Libre office\n"
      ]
    },
    {
      "cell_type": "markdown",
      "metadata": {
        "id": "Uv6PyxT-AZ8s"
      },
      "source": [
        "The code for this table is\n",
        "\n",
        "```\n",
        "| Tables   |      Are      |  Cool |\n",
        "|----------|:-------------:|------:|\n",
        "| col 1 is |  left-aligned |  1600 |\n",
        "| col 2 is |    centered   |    12 |\n",
        "| col 3 is | right-aligned |     1 |\n",
        "```\n",
        "\n"
      ]
    },
    {
      "cell_type": "markdown",
      "metadata": {
        "id": "eeZMsVWnHBob"
      },
      "source": [
        "\n",
        "\n",
        "| Tables   |      Are      |  Cool |\n",
        "|----------|:-------------:|------:|\n",
        "| col 1 is |  left-aligned | 1600 |\n",
        "| col 2 is |    centered   |   12 |\n",
        "| col 3 is | right-aligned |    1 |"
      ]
    },
    {
      "cell_type": "markdown",
      "metadata": {
        "id": "bHkDZExTEO9b"
      },
      "source": [
        "This is a helpful link for generating tables in Markdown and in other languages if you have it already somewhere else\n",
        "[Table Generator link](https://www.tablesgenerator.com/markdown_tables)"
      ]
    },
    {
      "cell_type": "markdown",
      "metadata": {
        "id": "TJzaZpLrkFdP"
      },
      "source": [
        "## Block Quotes\n",
        "\n",
        "This can be usefull for when you want to quote some text from your students and leave comments, take for example:"
      ]
    },
    {
      "cell_type": "markdown",
      "metadata": {
        "id": "z8AvBlxbknYs"
      },
      "source": [
        "\n",
        "\n",
        "```\n",
        "> Blockquotes are very handy in email to emulate reply text.\n",
        "> This line is part of the same quote.\n",
        "\n",
        "Quote break.\n",
        "\n",
        "> This is a very long line that will still be quoted properly when it wraps. Oh boy let's keep writing to make sure this is long enough to actually wrap for everyone. Oh, you can *put* **Markdown** into a blockquote.\n",
        "\n",
        "```\n",
        "\n"
      ]
    },
    {
      "cell_type": "markdown",
      "metadata": {
        "id": "1q3P2gULkcJC"
      },
      "source": [
        "> Blockquotes are very handy in email to emulate reply text.\n",
        "> This line is part of the same quote.\n",
        "\n",
        "Quote break.\n",
        "\n",
        "> This is a very long line that will still be quoted properly when it wraps. Oh boy let's keep writing to make sure this is long enough to actually wrap for everyone. Oh, you can *put* **Markdown** into a blockquote.\n",
        "\n",
        "\n"
      ]
    },
    {
      "cell_type": "markdown",
      "metadata": {
        "id": "lTmTcYTqk7De"
      },
      "source": [
        "## Horizontal Lines\n",
        "You can use these to sepearte parts of a document or for visual effect\n",
        "\n",
        "\n",
        "```\n",
        "\n",
        "---\n",
        "You can use 3 or more\n",
        "\n",
        "---\n",
        "\n",
        "Hyphens\n",
        "\n",
        "***\n",
        "\n",
        "Asterisks\n",
        "\n",
        "___\n",
        "\n",
        "Underscores\n",
        "```\n",
        "\n",
        "\n",
        "\n",
        "---\n",
        "You can use 3 or more\n",
        "\n",
        "---\n",
        "\n",
        "Hyphens\n",
        "\n",
        "***\n",
        "\n",
        "Asterisks\n",
        "\n",
        "___\n",
        "\n",
        "Underscores"
      ]
    },
    {
      "cell_type": "markdown",
      "metadata": {
        "id": "PQn5cK0S0JcL"
      },
      "source": [
        "# $\\LaTeX$\n"
      ]
    },
    {
      "cell_type": "markdown",
      "metadata": {
        "id": "yk9T5LsB0Tqd"
      },
      "source": [
        "LaTeX is a typesetting software that has been around for a long time and it is mostly used here for rendering math equations like below.\n",
        "\n",
        "\n",
        "\n",
        "```\n",
        "$$y=x^2$$\n",
        "```\n",
        "\n",
        "$$y=x^2$$\n",
        "\n",
        "```\n",
        "$$e^{i\\pi} + 1 = 0$$\n",
        "```\n",
        "\n",
        "\n",
        "$$e^{i\\pi} + 1 = 0$$\n",
        "\n",
        "```\n",
        "$$ \\vec{\\nabla} \\times \\vec{E}= -\\frac{\\partial \\vec{B}}{\\partial t}$$\n",
        "\n",
        "$$\\frac{n!}{k!(n-k)!} = {n \\choose k}$$\n",
        "\n",
        "$$A_{m,n} =\n",
        " \\begin{pmatrix}\n",
        "  a_{1,1} & a_{1,2} & \\cdots & a_{1,n} \\\\\n",
        "  a_{2,1} & a_{2,2} & \\cdots & a_{2,n} \\\\\n",
        "  \\vdots  & \\vdots  & \\ddots & \\vdots  \\\\\n",
        "  a_{m,1} & a_{m,2} & \\cdots & a_{m,n}\n",
        " \\end{pmatrix}$$\n",
        "```\n",
        "\n",
        "$$ \\vec{\\nabla} \\times \\vec{E}= -\\frac{\\partial \\vec{B}}{\\partial t}$$\n",
        "\n",
        "$$\\frac{n!}{k!(n-k)!} = {n \\choose k}$$\n",
        "\n",
        "$$A_{m,n} =\n",
        " \\begin{pmatrix}\n",
        "  a_{1,1} & a_{1,2} & \\cdots & a_{1,n} \\\\\n",
        "  a_{2,1} & a_{2,2} & \\cdots & a_{2,n} \\\\\n",
        "  \\vdots  & \\vdots  & \\ddots & \\vdots  \\\\\n",
        "  a_{m,1} & a_{m,2} & \\cdots & a_{m,n}\n",
        " \\end{pmatrix}$$\n",
        "\n",
        "\\begin{align*}\n",
        "    \\left|\\int_{0}^{1}e^{-t^2}dx -S(f,\\rho)\\right|  & \\leq \\frac{M_2}{24n^2} \\leq \\epsilon \\\\\n",
        "    \\epsilon& \\geq \\frac{M_2}{24n^2} \\\\\n",
        "    n^2& \\geq \\frac{M_2}{24 \\epsilon} \\\\\n",
        "    n& \\geq \\sqrt{\\frac{M_2}{24 \\epsilon}}\n",
        "\\end{align*}\n"
      ]
    },
    {
      "cell_type": "markdown",
      "metadata": {
        "id": "tW1q_gBNvLXF"
      },
      "source": [
        "# Credits"
      ]
    },
    {
      "cell_type": "markdown",
      "metadata": {
        "id": "s_O3dHulvLXF"
      },
      "source": [
        "This material has been modified. Original material has been made available by [Guillermo Fidalgo](https://github.com/GuillermoFidalgo)."
      ]
    }
  ],
  "metadata": {
    "colab": {
      "collapsed_sections": [
        "kn949qKhGxDw",
        "v2f8IFfue1yP",
        "wo9wb-4rS_7b",
        "kJDZWhueeSa6"
      ],
      "name": "Introduction to Markdown and Python.ipynb",
      "provenance": [],
      "toc_visible": true
    },
    "kernelspec": {
      "display_name": "Python 3",
      "language": "python",
      "name": "python3"
    },
    "language_info": {
      "name": "python",
      "version": "3.11.3"
    }
  },
  "nbformat": 4,
  "nbformat_minor": 0
}
